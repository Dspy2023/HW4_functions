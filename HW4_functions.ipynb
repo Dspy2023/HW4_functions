{
 "cells": [
  {
   "cell_type": "markdown",
   "metadata": {},
   "source": [
    "##  作業提醒\n",
    "1. 繳交作業的檔名請用**中文姓名** :\n",
    "> HW1_self_introduction_陳韋伶.ipynb\n",
    ">\n",
    "> HW2_python_basics_陳韋伶.ipynb\n",
    "\n",
    "2. 答案一定要 `print` 出來才會計分！"
   ]
  },
  {
   "cell_type": "markdown",
   "metadata": {},
   "source": [
    "## 題目一 (30%)\n",
    "\n",
    "請設計一個名為 `greetings` 的函數，該函數接受一個名字（`name`）做為參數，並能夠根據指定時區（UTC+8，台北時間）的當前時間回傳適當的問候語。\n",
    "\n",
    "示範：\n",
    "\n",
    "```\n",
    "name = \"瑪卡巴卡\"\n",
    "greeting_message = greetings(name)\n",
    "print(greeting_message)\n",
    "```\n",
    "\n",
    "會印出的結果為：\n",
    "> 現在的時間: 2023-10-11 13:14:06<br>\n",
    "> 午安, 瑪卡巴卡!\n",
    "\n",
    "---\n",
    "\n",
    "### 題目敘述\n",
    "\n",
    "1. 請先閱讀 `datetime` 模組的[官方文件](https://docs.python.org/zh-tw/3/library/datetime.html#)，以了解這個模組的相關用法。\n",
    "\n",
    "2. 函數的要求：\n",
    "  - 將時區設定在UTC+8（見 `datetime.timezone()` 和 `datetime.timedelta()` ）。\n",
    "  - 將當前的時間印出來，格式為「YYYY-MM-DD HH:MM:SS」（見 `datetime.now()` 和 `date.strftime()`）。\n",
    "  - 根據以下時間範圍回傳相對應的問候語：\n",
    "    - 如果時間早上在 5 點到 12 點（含 5 點但不含 12 點），請回傳「早安」。\n",
    "    - 如果時間在中午 12 點到下午 6 點之間（含 12 點但不含 6 點），請回傳「午安」。\n",
    "    - 如果時間在下午 6 點之後，請回傳「晚安」。\n",
    "  \n",
    "3. <mark>輸入名字「烏西蒂西」，並呼叫函數 `greetings` ，然後將結果印出來。<mark>\n",
    "  - 每個人的答案可能會因為做作業的時間不一致而有所不同！\n"
   ]
  },
  {
   "cell_type": "code",
   "execution_count": 2,
   "metadata": {},
   "outputs": [],
   "source": [
    "import datetime"
   ]
  },
  {
   "cell_type": "markdown",
   "metadata": {},
   "source": [
    "## 題目二 (30%)\n",
    "\n",
    "請設計一個名為 `count_chicken_rabbit` 的函數 ，該函數接受兩個參數：頭的數量（`heads`）和腳的數量（`feet`）。根據這兩個參數，函數應計算並回傳雞和兔的數量。\n",
    "\n",
    "示範：\n",
    "\n",
    "```\n",
    "result = count_chicken_rabbit(1, 4)\n",
    "print(result)\n",
    "```\n",
    "\n",
    "會印出的結果為：\n",
    "> 0 隻雞, 1 隻兔\n",
    "\n",
    "---\n",
    "\n",
    "### 題目敘述\n",
    "\n",
    "1. 雞兔同籠的規則：\n",
    "  - 每隻雞和兔都有頭也有腳。\n",
    "  - 雞有2隻腳，兔有4隻腳。\n",
    "  - 雞和兔的總和應該等於頭的數量。\n",
    "\n",
    "2. 函數的要求：\n",
    "  - 如果輸入的頭數和腳數不合法（頭數小於等於零、腳數小於等於零、腳數無法整除2），請回傳「無效輸入」。\n",
    "  - 如果輸入的頭數和腳數能計算雞和兔的數量，請回傳雞和兔的數量，格式為「x 隻雞, y 隻兔」， x 和 y 分別表示雞和兔的數量。\n",
    "  - 如果無法找到符合頭和腳數的解，請回傳「無解」。\n",
    "\n",
    "3. <mark>請計算以下雞和兔的數量並印出來：<mark>\n",
    "  - 35個頭、94隻腳\n",
    "  - 17個頭、37隻腳\n",
    "  - 1個頭、50隻腳\n"
   ]
  },
  {
   "cell_type": "markdown",
   "metadata": {},
   "source": [
    "## 題目三 (40%)\n",
    "\n",
    "請設計一個名為 `check_password()` 的函數，該函數接受一組密碼（`password`）作為參數，並會根據密碼的強度回傳相對應的訊息。\n",
    "\n",
    "示範：\n",
    "\n",
    "```\n",
    "password = \"pwrd\"\n",
    "strength = check_password(password)\n",
    "print(strength)\n",
    "```\n",
    "\n",
    "會印出的結果為：\n",
    "> 低強度：密碼長度應至少為 8 個字符, 密碼應包含至少一個大寫字母, 密碼應包含至少一個數字, 密碼應包含至少一個特殊字符 <br>\n",
    "> 不符合條件的數量：4\n",
    "\n",
    "---\n",
    "\n",
    "### 題目敘述\n",
    "\n",
    "1. 請先閱讀 `re` 模組的[官方文件](https://docs.python.org/zh-tw/3/library/re.html)，以了解正規表達式（regular expression）的相關用法。\n",
    "\n",
    "2. 請根據以下標準檢查密碼強度（見 `re.search()`）：\n",
    "  - 密碼的最小長度應為 8 個字符。\n",
    "  - 密碼應包含至少一個大寫字母（`A-Z`）。\n",
    "  - 密碼應包含至少一個小寫字母（`a-z`）。\n",
    "  - 密碼應包含至少一個數字（`0-9`）。\n",
    "  - 密碼應包含至少一個特殊字符（`!@#$%^&*()_+{}\\[\\]:;<>,.?~\\\\/-`）。\n",
    "\n",
    "3. 如果密碼滿足上述所有條件，請回傳「高強度：密碼滿足所有條件」。\n",
    "\n",
    "4. 如果密碼不滿足上述某些條件，請回傳「低強度」，並在同一行回傳錯誤訊息，其中包括不符合的條件和不符合條件的數量。\n",
    "\n",
    "5. <mark>請印出下列密碼的強度：</mark>\n",
    "    - \"p@ssW0rd\"\n",
    "    - \"dspy112-1\"\n"
   ]
  },
  {
   "cell_type": "code",
   "execution_count": 3,
   "metadata": {},
   "outputs": [],
   "source": [
    "import re"
   ]
  },
  {
   "cell_type": "code",
   "execution_count": null,
   "metadata": {},
   "outputs": [],
   "source": [
    "# 以下是一些可以參考的程式碼，你也可以自己設計：\n",
    "\n",
    "min_length = 8\n",
    "has_uppercase = bool(re.search(r'[A-Z]', password))\n",
    "has_lowercase = bool(re.search(r'[a-z]', password))\n",
    "has_digit = bool(re.search(r'\\d', password))\n",
    "has_special_char = bool(re.search(r'[!@#$%^&*()_+{}\\[\\]:;<>,.?~\\\\/-]', password))"
   ]
  },
  {
   "cell_type": "markdown",
   "metadata": {},
   "source": [
    "## 加分題 (10%)\n",
    "\n",
    "承題目三，你想到設定密碼時也應該要避免連續的數字和字母，於是你決定重新設計你的 `check_password` 函數。\n",
    "\n",
    "示範：\n",
    "```\n",
    "password = \"123Hell0w@rld\"  \n",
    "strength = check_password(password)\n",
    "print(strength)\n",
    "```\n",
    "\n",
    "會印出的結果為：\n",
    "> 低強度：密碼不應包含連續字符 <br>\n",
    "> 不符合條件的數量：1\n",
    "\n",
    "---\n",
    "\n",
    "### 題目敘述\n",
    "\n",
    "1. 請修改程式碼，讓函數可以檢查到連續字符，並回傳錯誤訊息。\n",
    "  - 兩個以上即算連續：如12, 23, 34, ab, bc, cd\n",
    "2. <mark>請印出下列密碼的強度：<mark>\n",
    "  - \"abckauKAti\"\n",
    "\n",
    "\n",
    "提示：可以使用 `ord()` 函式來檢查字符的 ASCII 編碼，以查找連續字符。\n"
   ]
  }
 ],
 "metadata": {
  "kernelspec": {
   "display_name": "myenv",
   "language": "python",
   "name": "python3"
  },
  "language_info": {
   "codemirror_mode": {
    "name": "ipython",
    "version": 3
   },
   "file_extension": ".py",
   "mimetype": "text/x-python",
   "name": "python",
   "nbconvert_exporter": "python",
   "pygments_lexer": "ipython3",
   "version": "3.10.11"
  },
  "orig_nbformat": 4
 },
 "nbformat": 4,
 "nbformat_minor": 2
}
